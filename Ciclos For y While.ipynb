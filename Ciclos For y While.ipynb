{
 "cells": [
  {
   "cell_type": "markdown",
   "id": "077e8f9d",
   "metadata": {},
   "source": [
    "# Practica "
   ]
  },
  {
   "cell_type": "markdown",
   "id": "97f69b7f",
   "metadata": {},
   "source": [
    "## Ciclo while.  numero 2^k"
   ]
  },
  {
   "cell_type": "code",
   "execution_count": 7,
   "id": "b904774d",
   "metadata": {},
   "outputs": [
    {
     "name": "stdout",
     "output_type": "stream",
     "text": [
      "Ingrese un número: 40\n",
      "El número no puede ser expresado como 2^K\n"
     ]
    }
   ],
   "source": [
    "# Solicitar al usuario que ingrese un número\n",
    "numero = int(input(\"Ingrese un número: \"))\n",
    "\n",
    "# Inicializar una variable exponente\n",
    "exponente = 0\n",
    "\n",
    "# Verificar si el número puede expresarse como 2^K\n",
    "while numero % 2 == 0:\n",
    "    numero //= 2\n",
    "    exponente += 1\n",
    "\n",
    "# Comprobar si el número puede expresarse como 2^K\n",
    "if numero == 1:\n",
    "    print(f\"El número puede ser expresado como 2^{exponente}\")\n",
    "else:\n",
    "    print(\"El número no puede ser expresado como 2^K\")"
   ]
  },
  {
   "cell_type": "markdown",
   "id": "6b94d083",
   "metadata": {},
   "source": [
    "## Obtener numero factorial"
   ]
  },
  {
   "cell_type": "code",
   "execution_count": 11,
   "id": "d4da5ebf",
   "metadata": {},
   "outputs": [
    {
     "name": "stdout",
     "output_type": "stream",
     "text": [
      "Ingrese un número entero: 7.5\n",
      "Error: Por favor, ingrese un número entero positivo.\n"
     ]
    }
   ],
   "source": [
    "# Solicitar al usuario que ingrese un número\n",
    "numero = input(\"Ingrese un número entero: \")\n",
    "\n",
    "# Verificar si la entrada es un número entero positivo\n",
    "try:\n",
    "    numero = int(numero)\n",
    "    if numero < 0 or numero != int(numero):\n",
    "        raise ValueError\n",
    "except ValueError:\n",
    "    print(\"Error: Por favor, ingrese un número entero positivo.\")\n",
    "else:\n",
    "    # Calcular el factorial del número ingresado\n",
    "    factorial = 1\n",
    "    for i in range(1, numero + 1):\n",
    "        factorial *= i\n",
    "\n",
    "    # Imprimir el resultado\n",
    "    print(f\"El factorial de {numero} es: {factorial}\")"
   ]
  },
  {
   "cell_type": "code",
   "execution_count": null,
   "id": "559a9574",
   "metadata": {},
   "outputs": [],
   "source": []
  }
 ],
 "metadata": {
  "kernelspec": {
   "display_name": "Python 3 (ipykernel)",
   "language": "python",
   "name": "python3"
  },
  "language_info": {
   "codemirror_mode": {
    "name": "ipython",
    "version": 3
   },
   "file_extension": ".py",
   "mimetype": "text/x-python",
   "name": "python",
   "nbconvert_exporter": "python",
   "pygments_lexer": "ipython3",
   "version": "3.11.5"
  }
 },
 "nbformat": 4,
 "nbformat_minor": 5
}
